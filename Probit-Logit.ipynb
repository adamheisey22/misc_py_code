{
 "cells": [
  {
   "cell_type": "code",
   "execution_count": 11,
   "id": "b727f628",
   "metadata": {},
   "outputs": [],
   "source": [
    "import pandas as pd\n",
    "from linearmodels import PooledOLS, PanelOLS, RandomEffects\n",
    "import numpy as np\n",
    "from scipy import stats\n",
    "import matplotlib.pyplot as plt\n",
    "import statsmodels.formula.api as smf\n",
    "\n"
   ]
  },
  {
   "cell_type": "code",
   "execution_count": 12,
   "id": "86556f8b",
   "metadata": {},
   "outputs": [
    {
     "data": {
      "text/html": [
       "<div>\n",
       "<style scoped>\n",
       "    .dataframe tbody tr th:only-of-type {\n",
       "        vertical-align: middle;\n",
       "    }\n",
       "\n",
       "    .dataframe tbody tr th {\n",
       "        vertical-align: top;\n",
       "    }\n",
       "\n",
       "    .dataframe thead th {\n",
       "        text-align: right;\n",
       "    }\n",
       "</style>\n",
       "<table border=\"1\" class=\"dataframe\">\n",
       "  <thead>\n",
       "    <tr style=\"text-align: right;\">\n",
       "      <th></th>\n",
       "      <th>Age</th>\n",
       "      <th>Female</th>\n",
       "      <th>Fail</th>\n",
       "      <th>Work_Experience</th>\n",
       "      <th>English</th>\n",
       "      <th>Country_Code</th>\n",
       "      <th>PG_Degree</th>\n",
       "      <th>Agrade</th>\n",
       "      <th>BelowBGrade</th>\n",
       "      <th>Year2004</th>\n",
       "      <th>Year2005</th>\n",
       "      <th>Year2006</th>\n",
       "      <th>Year2007</th>\n",
       "    </tr>\n",
       "  </thead>\n",
       "  <tbody>\n",
       "    <tr>\n",
       "      <th>0</th>\n",
       "      <td>22</td>\n",
       "      <td>1</td>\n",
       "      <td>0</td>\n",
       "      <td>0</td>\n",
       "      <td>0</td>\n",
       "      <td>10</td>\n",
       "      <td>0</td>\n",
       "      <td>0</td>\n",
       "      <td>0</td>\n",
       "      <td>0</td>\n",
       "      <td>0</td>\n",
       "      <td>0</td>\n",
       "      <td>0</td>\n",
       "    </tr>\n",
       "    <tr>\n",
       "      <th>1</th>\n",
       "      <td>24</td>\n",
       "      <td>0</td>\n",
       "      <td>1</td>\n",
       "      <td>0</td>\n",
       "      <td>1</td>\n",
       "      <td>8</td>\n",
       "      <td>0</td>\n",
       "      <td>0</td>\n",
       "      <td>0</td>\n",
       "      <td>0</td>\n",
       "      <td>0</td>\n",
       "      <td>0</td>\n",
       "      <td>0</td>\n",
       "    </tr>\n",
       "    <tr>\n",
       "      <th>2</th>\n",
       "      <td>28</td>\n",
       "      <td>0</td>\n",
       "      <td>0</td>\n",
       "      <td>0</td>\n",
       "      <td>1</td>\n",
       "      <td>10</td>\n",
       "      <td>0</td>\n",
       "      <td>0</td>\n",
       "      <td>0</td>\n",
       "      <td>0</td>\n",
       "      <td>0</td>\n",
       "      <td>0</td>\n",
       "      <td>0</td>\n",
       "    </tr>\n",
       "    <tr>\n",
       "      <th>3</th>\n",
       "      <td>23</td>\n",
       "      <td>0</td>\n",
       "      <td>0</td>\n",
       "      <td>0</td>\n",
       "      <td>1</td>\n",
       "      <td>8</td>\n",
       "      <td>0</td>\n",
       "      <td>0</td>\n",
       "      <td>0</td>\n",
       "      <td>0</td>\n",
       "      <td>0</td>\n",
       "      <td>0</td>\n",
       "      <td>0</td>\n",
       "    </tr>\n",
       "    <tr>\n",
       "      <th>4</th>\n",
       "      <td>23</td>\n",
       "      <td>0</td>\n",
       "      <td>0</td>\n",
       "      <td>1</td>\n",
       "      <td>1</td>\n",
       "      <td>8</td>\n",
       "      <td>0</td>\n",
       "      <td>0</td>\n",
       "      <td>0</td>\n",
       "      <td>0</td>\n",
       "      <td>0</td>\n",
       "      <td>0</td>\n",
       "      <td>0</td>\n",
       "    </tr>\n",
       "  </tbody>\n",
       "</table>\n",
       "</div>"
      ],
      "text/plain": [
       "   Age  Female  Fail  Work_Experience  English  Country_Code  PG_Degree  \\\n",
       "0   22       1     0                0        0            10          0   \n",
       "1   24       0     1                0        1             8          0   \n",
       "2   28       0     0                0        1            10          0   \n",
       "3   23       0     0                0        1             8          0   \n",
       "4   23       0     0                1        1             8          0   \n",
       "\n",
       "   Agrade  BelowBGrade  Year2004  Year2005  Year2006  Year2007  \n",
       "0       0            0         0         0         0         0  \n",
       "1       0            0         0         0         0         0  \n",
       "2       0            0         0         0         0         0  \n",
       "3       0            0         0         0         0         0  \n",
       "4       0            0         0         0         0         0  "
      ]
     },
     "execution_count": 12,
     "metadata": {},
     "output_type": "execute_result"
    }
   ],
   "source": [
    "data = pd.read_excel('ldv_assignment.xlsx')\n",
    "data.head()"
   ]
  },
  {
   "cell_type": "markdown",
   "id": "26a616d7",
   "metadata": {},
   "source": [
    "How many students failed? Percentage failed.\n",
    "\n",
    "12.76% chance that they will fail."
   ]
  },
  {
   "cell_type": "code",
   "execution_count": 13,
   "id": "5505cf48",
   "metadata": {},
   "outputs": [
    {
     "data": {
      "text/plain": [
       "0.134"
      ]
     },
     "execution_count": 13,
     "metadata": {},
     "output_type": "execute_result"
    }
   ],
   "source": [
    "sum(np.where(data['Fail']==1,1,0))/len(data.index)"
   ]
  },
  {
   "cell_type": "markdown",
   "id": "f0fed926",
   "metadata": {},
   "source": [
    "Model"
   ]
  },
  {
   "cell_type": "code",
   "execution_count": 14,
   "id": "901e7426",
   "metadata": {},
   "outputs": [],
   "source": [
    "formula = 'Fail ~ Age + English + Female + Work_Experience + Agrade\\\n",
    "+ BelowBGrade + PG_Degree + Year2004 + Year2005 + Year2006\\\n",
    "+Year2007'"
   ]
  },
  {
   "cell_type": "code",
   "execution_count": 15,
   "id": "72ded6c9",
   "metadata": {},
   "outputs": [
    {
     "name": "stdout",
     "output_type": "stream",
     "text": [
      "Optimization terminated successfully.\n",
      "         Current function value: 0.359433\n",
      "         Iterations 7\n",
      "                           Logit Regression Results                           \n",
      "==============================================================================\n",
      "Dep. Variable:                   Fail   No. Observations:                  500\n",
      "Model:                          Logit   Df Residuals:                      488\n",
      "Method:                           MLE   Df Model:                           11\n",
      "Date:                Sat, 03 Dec 2022   Pseudo R-squ.:                 0.08755\n",
      "Time:                        16:23:40   Log-Likelihood:                -179.72\n",
      "converged:                       True   LL-Null:                       -196.96\n",
      "Covariance Type:                  HC1   LLR p-value:                 0.0003010\n",
      "===================================================================================\n",
      "                      coef    std err          z      P>|z|      [0.025      0.975]\n",
      "-----------------------------------------------------------------------------------\n",
      "Intercept          -2.2564      1.220     -1.849      0.064      -4.648       0.135\n",
      "Age                 0.0110      0.046      0.240      0.810      -0.079       0.101\n",
      "English            -0.1651      0.295     -0.560      0.576      -0.743       0.413\n",
      "Female             -0.3339      0.360     -0.928      0.353      -1.039       0.371\n",
      "Work_Experience    -0.5688      0.289     -1.968      0.049      -1.135      -0.002\n",
      "Agrade             -1.0850      0.493     -2.203      0.028      -2.050      -0.120\n",
      "BelowBGrade         0.5624      0.386      1.455      0.146      -0.195       1.320\n",
      "PG_Degree           0.2121      0.425      0.499      0.618      -0.621       1.046\n",
      "Year2004            0.6532      0.484      1.351      0.177      -0.295       1.601\n",
      "Year2005           -0.1838      0.559     -0.329      0.742      -1.280       0.912\n",
      "Year2006            1.2466      0.469      2.657      0.008       0.327       2.166\n",
      "Year2007            0.8504      0.482      1.765      0.078      -0.094       1.795\n",
      "===================================================================================\n"
     ]
    }
   ],
   "source": [
    "#logit regression\n",
    "mod = smf.logit(formula, data)\n",
    "res = mod.fit(cov_type='HC1')#white robustness\n",
    "print(res.summary())\n",
    "\n",
    "#uses  maxmium likeliehood"
   ]
  },
  {
   "cell_type": "code",
   "execution_count": 16,
   "id": "1352caf3",
   "metadata": {},
   "outputs": [
    {
     "name": "stdout",
     "output_type": "stream",
     "text": [
      "Optimization terminated successfully.\n",
      "         Current function value: 0.358913\n",
      "         Iterations 6\n",
      "                          Probit Regression Results                           \n",
      "==============================================================================\n",
      "Dep. Variable:                   Fail   No. Observations:                  500\n",
      "Model:                         Probit   Df Residuals:                      488\n",
      "Method:                           MLE   Df Model:                           11\n",
      "Date:                Sat, 03 Dec 2022   Pseudo R-squ.:                 0.08887\n",
      "Time:                        16:23:42   Log-Likelihood:                -179.46\n",
      "converged:                       True   LL-Null:                       -196.96\n",
      "Covariance Type:                  HC1   LLR p-value:                 0.0002471\n",
      "===================================================================================\n",
      "                      coef    std err          z      P>|z|      [0.025      0.975]\n",
      "-----------------------------------------------------------------------------------\n",
      "Intercept          -1.2872      0.610     -2.112      0.035      -2.482      -0.093\n",
      "Age                 0.0057      0.023      0.252      0.801      -0.039       0.050\n",
      "English            -0.0938      0.156     -0.600      0.548      -0.400       0.212\n",
      "Female             -0.1941      0.186     -1.042      0.297      -0.559       0.171\n",
      "Work_Experience    -0.3182      0.151     -2.103      0.035      -0.615      -0.022\n",
      "Agrade             -0.5388      0.231     -2.331      0.020      -0.992      -0.086\n",
      "BelowBGrade         0.3418      0.219      1.559      0.119      -0.088       0.772\n",
      "PG_Degree           0.1330      0.226      0.589      0.556      -0.310       0.576\n",
      "Year2004            0.3497      0.241      1.448      0.148      -0.124       0.823\n",
      "Year2005           -0.1083      0.269     -0.403      0.687      -0.635       0.418\n",
      "Year2006            0.6736      0.239      2.824      0.005       0.206       1.141\n",
      "Year2007            0.4338      0.248      1.750      0.080      -0.052       0.920\n",
      "===================================================================================\n"
     ]
    }
   ],
   "source": [
    "#probit model\n",
    "mod = smf.probit(formula, data)\n",
    "res = mod.fit(cov_type='HC1')\n",
    "print(res.summary())"
   ]
  },
  {
   "cell_type": "code",
   "execution_count": 17,
   "id": "a8311da5",
   "metadata": {},
   "outputs": [
    {
     "data": {
      "image/png": "[encoded data removed]",
      "text/plain": [
       "<Figure size 432x288 with 1 Axes>"
      ]
     },
     "metadata": {
      "needs_background": "light"
     },
     "output_type": "display_data"
    }
   ],
   "source": [
    "plt.figure(1)\n",
    "plt.plot(res.predict())\n",
    "plt.ylabel('Pr(Fail)')\n",
    "plt.xlabel('seqnum')\n",
    "plt.show()"
   ]
  },
  {
   "cell_type": "code",
   "execution_count": 18,
   "id": "12acd28c",
   "metadata": {},
   "outputs": [
    {
     "name": "stdout",
     "output_type": "stream",
     "text": [
      "       Probit Marginal Effects       \n",
      "=====================================\n",
      "Dep. Variable:                   Fail\n",
      "Method:                          dydx\n",
      "At:                           overall\n",
      "===================================================================================\n",
      "                     dy/dx    std err          z      P>|z|      [0.025      0.975]\n",
      "-----------------------------------------------------------------------------------\n",
      "Age                 0.0011      0.004      0.252      0.801      -0.008       0.010\n",
      "English            -0.0185      0.031     -0.601      0.548      -0.079       0.042\n",
      "Female             -0.0382      0.037     -1.040      0.298      -0.110       0.034\n",
      "Work_Experience    -0.0627      0.030     -2.101      0.036      -0.121      -0.004\n",
      "Agrade             -0.1061      0.045     -2.342      0.019      -0.195      -0.017\n",
      "BelowBGrade         0.0673      0.043      1.561      0.119      -0.017       0.152\n",
      "PG_Degree           0.0262      0.044      0.588      0.556      -0.061       0.113\n",
      "Year2004            0.0689      0.048      1.445      0.149      -0.025       0.162\n",
      "Year2005           -0.0213      0.053     -0.403      0.687      -0.125       0.082\n",
      "Year2006            0.1326      0.047      2.840      0.005       0.041       0.224\n",
      "Year2007            0.0854      0.049      1.757      0.079      -0.010       0.181\n",
      "===================================================================================\n"
     ]
    }
   ],
   "source": [
    "#what is the change in the probablity \n",
    "print(res.get_margeff().summary()) #marginal effects"
   ]
  },
  {
   "cell_type": "markdown",
   "id": "d8e6738f",
   "metadata": {},
   "source": [
    "probablity of failing with work experience drops 6.98 percent"
   ]
  }
 ],
 "metadata": {
  "kernelspec": {
   "display_name": "Python 3 (ipykernel)",
   "language": "python",
   "name": "python3"
  },
  "language_info": {
   "codemirror_mode": {
    "name": "ipython",
    "version": 3
   },
   "file_extension": ".py",
   "mimetype": "text/x-python",
   "name": "python",
   "nbconvert_exporter": "python",
   "pygments_lexer": "ipython3",
   "version": "3.9.7"
  }
 },
 "nbformat": 4,
 "nbformat_minor": 5
}
