{
 "cells": [
  {
   "cell_type": "code",
   "execution_count": 1,
   "id": "747ef244",
   "metadata": {},
   "outputs": [
    {
     "name": "stderr",
     "output_type": "stream",
     "text": [
      "C:\\Users\\adamh\\anaconda3\\lib\\site-packages\\scipy\\__init__.py:146: UserWarning: A NumPy version >=1.16.5 and <1.23.0 is required for this version of SciPy (detected version 1.23.5\n",
      "  warnings.warn(f\"A NumPy version >={np_minversion} and <{np_maxversion}\"\n"
     ]
    }
   ],
   "source": [
    "import pandas as pd\n",
    "from linearmodels import PooledOLS, PanelOLS, RandomEffects\n",
    "import numpy as np\n",
    "from scipy import stats\n"
   ]
  },
  {
   "cell_type": "code",
   "execution_count": 2,
   "id": "5715ac91",
   "metadata": {},
   "outputs": [],
   "source": [
    "data = pd.read_excel('panel_assignment.xlsx')"
   ]
  },
  {
   "cell_type": "markdown",
   "id": "799cbfa9",
   "metadata": {},
   "source": [
    "### ret = alpha + (average excess ret)*beta\n",
    "\n",
    "### factor payoff -- time series from cross sectional regression\n",
    "### beta: factor loading\n",
    "### factor payof = 0?"
   ]
  },
  {
   "cell_type": "code",
   "execution_count": 3,
   "id": "887190bb",
   "metadata": {},
   "outputs": [
    {
     "data": {
      "text/html": [
       "<div>\n",
       "<style scoped>\n",
       "    .dataframe tbody tr th:only-of-type {\n",
       "        vertical-align: middle;\n",
       "    }\n",
       "\n",
       "    .dataframe tbody tr th {\n",
       "        vertical-align: top;\n",
       "    }\n",
       "\n",
       "    .dataframe thead th {\n",
       "        text-align: right;\n",
       "    }\n",
       "</style>\n",
       "<table border=\"1\" class=\"dataframe\">\n",
       "  <thead>\n",
       "    <tr style=\"text-align: right;\">\n",
       "      <th></th>\n",
       "      <th>firm_ident</th>\n",
       "      <th>return</th>\n",
       "      <th>beta</th>\n",
       "      <th>year</th>\n",
       "    </tr>\n",
       "  </thead>\n",
       "  <tbody>\n",
       "    <tr>\n",
       "      <th>0</th>\n",
       "      <td>1</td>\n",
       "      <td>-0.004813</td>\n",
       "      <td>1.501050</td>\n",
       "      <td>1996</td>\n",
       "    </tr>\n",
       "    <tr>\n",
       "      <th>1</th>\n",
       "      <td>2</td>\n",
       "      <td>NaN</td>\n",
       "      <td>0.771553</td>\n",
       "      <td>1996</td>\n",
       "    </tr>\n",
       "    <tr>\n",
       "      <th>2</th>\n",
       "      <td>3</td>\n",
       "      <td>-0.004813</td>\n",
       "      <td>1.116419</td>\n",
       "      <td>1996</td>\n",
       "    </tr>\n",
       "    <tr>\n",
       "      <th>3</th>\n",
       "      <td>4</td>\n",
       "      <td>-0.004813</td>\n",
       "      <td>1.128749</td>\n",
       "      <td>1996</td>\n",
       "    </tr>\n",
       "    <tr>\n",
       "      <th>4</th>\n",
       "      <td>5</td>\n",
       "      <td>-0.001599</td>\n",
       "      <td>1.244929</td>\n",
       "      <td>1996</td>\n",
       "    </tr>\n",
       "  </tbody>\n",
       "</table>\n",
       "</div>"
      ],
      "text/plain": [
       "   firm_ident    return      beta  year\n",
       "0           1 -0.004813  1.501050  1996\n",
       "1           2       NaN  0.771553  1996\n",
       "2           3 -0.004813  1.116419  1996\n",
       "3           4 -0.004813  1.128749  1996\n",
       "4           5 -0.001599  1.244929  1996"
      ]
     },
     "execution_count": 3,
     "metadata": {},
     "output_type": "execute_result"
    }
   ],
   "source": [
    "data.head()\n",
    "#long form"
   ]
  },
  {
   "cell_type": "code",
   "execution_count": 4,
   "id": "7b086af0",
   "metadata": {},
   "outputs": [],
   "source": [
    "data=data.rename(columns={'return': 'ret'})"
   ]
  },
  {
   "cell_type": "code",
   "execution_count": 5,
   "id": "41996d87",
   "metadata": {},
   "outputs": [
    {
     "data": {
      "text/plain": [
       "count    24091.000000\n",
       "mean        -0.001546\n",
       "std          0.038328\n",
       "min         -1.005126\n",
       "25%         -0.004813\n",
       "50%         -0.003933\n",
       "75%         -0.002967\n",
       "max          0.706354\n",
       "Name: ret, dtype: float64"
      ]
     },
     "execution_count": 5,
     "metadata": {},
     "output_type": "execute_result"
    }
   ],
   "source": [
    "#data summary\n",
    "data['ret'].describe()"
   ]
  },
  {
   "cell_type": "code",
   "execution_count": 6,
   "id": "1e99fb9f",
   "metadata": {},
   "outputs": [
    {
     "data": {
      "text/plain": [
       "count    9073.000000\n",
       "mean        1.104948\n",
       "std         0.203569\n",
       "min         0.660871\n",
       "25%         0.940652\n",
       "50%         1.081632\n",
       "75%         1.248908\n",
       "max         1.611615\n",
       "Name: beta, dtype: float64"
      ]
     },
     "execution_count": 6,
     "metadata": {},
     "output_type": "execute_result"
    }
   ],
   "source": [
    "data['beta'].describe()\n",
    "#beta should be 1"
   ]
  },
  {
   "cell_type": "code",
   "execution_count": 7,
   "id": "dc3c42be",
   "metadata": {},
   "outputs": [],
   "source": [
    "#drop missing nan values\n",
    "data = data.dropna()"
   ]
  },
  {
   "cell_type": "code",
   "execution_count": 8,
   "id": "1c6552d9",
   "metadata": {},
   "outputs": [],
   "source": [
    "#multi-index\n",
    "data = data.set_index(['firm_ident', 'year'])"
   ]
  },
  {
   "cell_type": "code",
   "execution_count": 9,
   "id": "05038573",
   "metadata": {},
   "outputs": [
    {
     "name": "stdout",
     "output_type": "stream",
     "text": [
      "                          PooledOLS Estimation Summary                          \n",
      "================================================================================\n",
      "Dep. Variable:                    ret   R-squared:                     3.118e-06\n",
      "Estimator:                  PooledOLS   R-squared (Between):             -0.0087\n",
      "No. Observations:                8856   R-squared (Within):           -9.129e-05\n",
      "Date:                Thu, Nov 24 2022   R-squared (Overall):           3.118e-06\n",
      "Time:                        08:43:11   Log-likelihood                 1.357e+04\n",
      "Cov. Estimator:            Unadjusted                                           \n",
      "                                        F-statistic:                      0.0276\n",
      "Entities:                        1734   P-value                           0.8680\n",
      "Avg Obs:                       5.1073   Distribution:                  F(1,8854)\n",
      "Min Obs:                       1.0000                                           \n",
      "Max Obs:                       11.000   F-statistic (robust):             0.0276\n",
      "                                        P-value                           0.8680\n",
      "Time periods:                      11   Distribution:                  F(1,8854)\n",
      "Avg Obs:                       805.09                                           \n",
      "Min Obs:                       515.00                                           \n",
      "Max Obs:                       1096.0                                           \n",
      "                                                                                \n",
      "                             Parameter Estimates                              \n",
      "==============================================================================\n",
      "            Parameter  Std. Err.     T-stat    P-value    Lower CI    Upper CI\n",
      "------------------------------------------------------------------------------\n",
      "Intercept      0.0018     0.0031     0.5993     0.5490     -0.0042      0.0079\n",
      "beta           0.0005     0.0027     0.1662     0.8680     -0.0049      0.0058\n",
      "==============================================================================\n"
     ]
    }
   ],
   "source": [
    "#simple-Pooled Regression\n",
    "model = PooledOLS.from_formula('ret ~ 1 + beta', data)\n",
    "pooled = model.fit()\n",
    "print(pooled)"
   ]
  },
  {
   "cell_type": "code",
   "execution_count": 10,
   "id": "9a262ea8",
   "metadata": {},
   "outputs": [
    {
     "name": "stdout",
     "output_type": "stream",
     "text": [
      "                          PanelOLS Estimation Summary                           \n",
      "================================================================================\n",
      "Dep. Variable:                    ret   R-squared:                        0.0012\n",
      "Estimator:                   PanelOLS   R-squared (Between):             -0.0119\n",
      "No. Observations:                8856   R-squared (Within):               0.0012\n",
      "Date:                Thu, Nov 24 2022   R-squared (Overall):             -0.0023\n",
      "Time:                        08:43:11   Log-likelihood                  1.48e+04\n",
      "Cov. Estimator:             Clustered                                           \n",
      "                                        F-statistic:                      8.3576\n",
      "Entities:                        1734   P-value                           0.0039\n",
      "Avg Obs:                       5.1073   Distribution:                  F(1,7121)\n",
      "Min Obs:                       1.0000                                           \n",
      "Max Obs:                       11.000   F-statistic (robust):             5.0009\n",
      "                                        P-value                           0.0254\n",
      "Time periods:                      11   Distribution:                  F(1,7121)\n",
      "Avg Obs:                       805.09                                           \n",
      "Min Obs:                       515.00                                           \n",
      "Max Obs:                       1096.0                                           \n",
      "                                                                                \n",
      "                             Parameter Estimates                              \n",
      "==============================================================================\n",
      "            Parameter  Std. Err.     T-stat    P-value    Lower CI    Upper CI\n",
      "------------------------------------------------------------------------------\n",
      "Intercept      0.0155     0.0059     2.6350     0.0084      0.0040      0.0270\n",
      "beta          -0.0119     0.0053    -2.2363     0.0254     -0.0223     -0.0015\n",
      "==============================================================================\n",
      "\n",
      "F-test for Poolability: 1.3111\n",
      "P-value: 0.0000\n",
      "Distribution: F(1733,7121)\n",
      "\n",
      "Included effects: Entity\n"
     ]
    }
   ],
   "source": [
    "#panel Regression with Fiexed Effects\n",
    "#simple-Pooled Regression\n",
    "model = PanelOLS.from_formula('ret ~ 1 + beta + EntityEffects', data)\n",
    "fixed = model.fit(cov_type = 'clustered', cluster_entity= True) #across individuals\n",
    "print(fixed)"
   ]
  },
  {
   "cell_type": "code",
   "execution_count": 11,
   "id": "7e9df1b6",
   "metadata": {},
   "outputs": [
    {
     "name": "stdout",
     "output_type": "stream",
     "text": [
      "Pooled F-statistic\n",
      "H0: Effects are zero\n",
      "Statistic: 1.3111\n",
      "P-value: 0.0000\n",
      "Distributed: F(1733,7121)\n"
     ]
    }
   ],
   "source": [
    "#F test for fixed effexts verses OLS\n",
    "print(fixed.f_pooled)"
   ]
  },
  {
   "cell_type": "markdown",
   "id": "3da5c9f6",
   "metadata": {},
   "source": [
    "Pooled --> one intercept\n",
    "\n",
    "Fixed effects --> everybody gets thier own intercept\n",
    "\n",
    "Random effects --> one distribution for the intercept\n"
   ]
  },
  {
   "cell_type": "code",
   "execution_count": 12,
   "id": "33d71e31",
   "metadata": {},
   "outputs": [
    {
     "name": "stdout",
     "output_type": "stream",
     "text": [
      "                        RandomEffects Estimation Summary                        \n",
      "================================================================================\n",
      "Dep. Variable:                    ret   R-squared:                     7.135e-05\n",
      "Estimator:              RandomEffects   R-squared (Between):             -0.0030\n",
      "No. Observations:                8856   R-squared (Within):               0.0008\n",
      "Date:                Thu, Nov 24 2022   R-squared (Overall):             -0.0019\n",
      "Time:                        08:43:12   Log-likelihood                 1.412e+04\n",
      "Cov. Estimator:            Unadjusted                                           \n",
      "                                        F-statistic:                      0.6318\n",
      "Entities:                        1734   P-value                           0.4267\n",
      "Avg Obs:                       5.1073   Distribution:                  F(1,8854)\n",
      "Min Obs:                       1.0000                                           \n",
      "Max Obs:                       11.000   F-statistic (robust):             2.8030\n",
      "                                        P-value                           0.0941\n",
      "Time periods:                      11   Distribution:                  F(1,8854)\n",
      "Avg Obs:                       805.09                                           \n",
      "Min Obs:                       515.00                                           \n",
      "Max Obs:                       1096.0                                           \n",
      "                                                                                \n",
      "                             Parameter Estimates                              \n",
      "==============================================================================\n",
      "            Parameter  Std. Err.     T-stat    P-value    Lower CI    Upper CI\n",
      "------------------------------------------------------------------------------\n",
      "Intercept      0.0063     0.0037     1.7208     0.0853     -0.0009      0.0136\n",
      "beta          -0.0054     0.0032    -1.6742     0.0941     -0.0117      0.0009\n",
      "==============================================================================\n"
     ]
    }
   ],
   "source": [
    "#Panel Regression with Random Effects\n",
    "model = RandomEffects.from_formula('ret ~ 1 + beta', data)\n",
    "random = model.fit()\n",
    "print(random)\n",
    "\n"
   ]
  },
  {
   "cell_type": "code",
   "execution_count": null,
   "id": "edb75f6a",
   "metadata": {},
   "outputs": [],
   "source": []
  }
 ],
 "metadata": {
  "kernelspec": {
   "display_name": "Python 3 (ipykernel)",
   "language": "python",
   "name": "python3"
  },
  "language_info": {
   "codemirror_mode": {
    "name": "ipython",
    "version": 3
   },
   "file_extension": ".py",
   "mimetype": "text/x-python",
   "name": "python",
   "nbconvert_exporter": "python",
   "pygments_lexer": "ipython3",
   "version": "3.9.7"
  }
 },
 "nbformat": 4,
 "nbformat_minor": 5
}
